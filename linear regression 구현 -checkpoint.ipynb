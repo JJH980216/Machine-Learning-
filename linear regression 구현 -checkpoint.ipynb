{
 "cells": [
  {
   "cell_type": "markdown",
   "metadata": {},
   "source": [
    "## 난수생성"
   ]
  },
  {
   "cell_type": "code",
   "execution_count": 2,
   "metadata": {},
   "outputs": [
    {
     "name": "stdout",
     "output_type": "stream",
     "text": [
      "tf.Tensor([0.22364056], shape=(1,), dtype=float32)\n"
     ]
    }
   ],
   "source": [
    "import tensorflow as tf\n",
    "\n",
    "rand = tf.random.uniform([1],0,1)\n",
    "print(rand)"
   ]
  },
  {
   "cell_type": "code",
   "execution_count": 3,
   "metadata": {},
   "outputs": [
    {
     "name": "stdout",
     "output_type": "stream",
     "text": [
      "tf.Tensor([0.69249463 0.5925573  0.11151028 0.02056193], shape=(4,), dtype=float32)\n"
     ]
    }
   ],
   "source": [
    "rand = tf.random.uniform([4],0,1)\n",
    "print(rand)"
   ]
  },
  {
   "cell_type": "code",
   "execution_count": 4,
   "metadata": {},
   "outputs": [
    {
     "name": "stdout",
     "output_type": "stream",
     "text": [
      "tf.Tensor([-0.24136503  0.9015251   0.6942722   1.3794055 ], shape=(4,), dtype=float32)\n"
     ]
    }
   ],
   "source": [
    "rand = tf.random.normal([4],0,1)\n",
    "print(rand)"
   ]
  },
  {
   "cell_type": "code",
   "execution_count": 49,
   "metadata": {},
   "outputs": [
    {
     "name": "stdout",
     "output_type": "stream",
     "text": [
      "w = <tf.Variable 'Variable:0' shape=() dtype=float32, numpy=0.18696725> \n",
      "b =  <tf.Variable 'Variable:0' shape=() dtype=float32, numpy=0.25085512>\n",
      "epochs = 99 w = 5.7515206 b = 6.134106 cost = 831.54095\n",
      "epochs = 199 w = 7.4536376 b = 9.334222 cost = 428.09875\n",
      "epochs = 299 w = 7.456606 b = 11.662976 cost = 377.45483\n",
      "epochs = 399 w = 7.217471 b = 14.080463 cost = 329.3623\n",
      "epochs = 499 w = 6.9564996 b = 16.63087 cost = 282.42026\n",
      "epochs = 599 w = 6.6901546 b = 19.238096 cost = 238.58562\n",
      "epochs = 699 w = 6.4248986 b = 21.838436 cost = 199.0469\n",
      "epochs = 799 w = 6.165774 b = 24.381577 cost = 164.41403\n",
      "epochs = 899 w = 5.9167433 b = 26.827961 cost = 134.86392\n",
      "epochs = 999 w = 5.680874 b = 29.146797 cost = 110.26198\n",
      "epochs = 1099 w = 5.460469 b = 31.314926 cost = 90.258484\n",
      "epochs = 1199 w = 5.2571697 b = 33.315746 cost = 74.3701\n",
      "epochs = 1299 w = 5.0720253 b = 35.138577 cost = 62.043606\n",
      "epochs = 1399 w = 4.9055552 b = 36.778034 cost = 52.706608\n",
      "epochs = 1499 w = 4.757804 b = 38.23348 cost = 45.805943\n",
      "epochs = 1599 w = 4.628397 b = 39.508423 cost = 40.833878\n",
      "epochs = 1699 w = 4.516601 b = 40.609997 cost = 37.344727\n",
      "epochs = 1799 w = 4.4213796 b = 41.54832 cost = 34.962536\n",
      "epochs = 1899 w = 4.3414636 b = 42.33589 cost = 33.381943\n",
      "epochs = 1999 w = 4.2754126 b = 42.986847 cost = 32.364094\n",
      "epochs = 2099 w = 4.221685 b = 43.51636 cost = 31.728773\n",
      "epochs = 2199 w = 4.1787057 b = 43.939957 cost = 31.34493\n",
      "epochs = 2299 w = 4.1449146 b = 44.272984 cost = 31.120806\n",
      "epochs = 2399 w = 4.118828 b = 44.5301 cost = 30.99452\n",
      "epochs = 2499 w = 4.0990653 b = 44.72488 cost = 30.925985\n",
      "epochs = 2599 w = 4.0843883 b = 44.869537 cost = 30.89022\n",
      "epochs = 2699 w = 4.073711 b = 44.974773 cost = 30.872307\n",
      "epochs = 2799 w = 4.0661144 b = 45.049644 cost = 30.863708\n",
      "epochs = 2899 w = 4.060829 b = 45.101734 cost = 30.859776\n",
      "epochs = 2999 w = 4.0572395 b = 45.137115 cost = 30.858059\n",
      "epochs = 3099 w = 4.0548635 b = 45.160538 cost = 30.85733\n",
      "epochs = 3199 w = 4.053332 b = 45.17563 cost = 30.857035\n",
      "epochs = 3299 w = 4.0523705 b = 45.185104 cost = 30.856934\n",
      "epochs = 3399 w = 4.051786 b = 45.190872 cost = 30.85692\n",
      "epochs = 3499 w = 4.051441 b = 45.19427 cost = 30.8569\n",
      "epochs = 3599 w = 4.0512457 b = 45.19621 cost = 30.85688\n",
      "epochs = 3699 w = 4.051137 b = 45.197258 cost = 30.856886\n",
      "epochs = 3799 w = 4.0510807 b = 45.19781 cost = 30.8569\n",
      "epochs = 3899 w = 4.051044 b = 45.198177 cost = 30.85689\n",
      "epochs = 3999 w = 4.051044 b = 45.198177 cost = 30.85689\n",
      "epochs = 4099 w = 4.051044 b = 45.19818 cost = 30.856886\n",
      "epochs = 4199 w = 4.0510435 b = 45.198185 cost = 30.85689\n",
      "epochs = 4299 w = 4.051042 b = 45.1982 cost = 30.856903\n",
      "epochs = 4399 w = 4.051041 b = 45.198208 cost = 30.85688\n",
      "epochs = 4499 w = 4.05104 b = 45.19822 cost = 30.856903\n",
      "epochs = 4599 w = 4.051039 b = 45.19823 cost = 30.856894\n",
      "epochs = 4699 w = 4.051038 b = 45.198242 cost = 30.856886\n",
      "epochs = 4799 w = 4.051037 b = 45.198246 cost = 30.856886\n",
      "epochs = 4899 w = 4.051036 b = 45.19826 cost = 30.856886\n",
      "epochs = 4999 w = 4.0510354 b = 45.198265 cost = 30.85688\n"
     ]
    }
   ],
   "source": [
    "import tensorflow as tf\n",
    "import numpy as np\n",
    "import matplotlib.pyplot as plt\n",
    "import random\n",
    "\n",
    "# train data set\n",
    "data =[[1,40],[2,50],[3,60],[4,65],[6,75],[9,88],[12,94],[11,93],[15,97]]\n",
    "\n",
    "# Classify training data\n",
    "x_train = [i[0] for i in data]\n",
    "y_train = [i[1] for i in data]\n",
    "\n",
    "# set parameters\n",
    "w = tf.Variable(random.random())\n",
    "b = tf.Variable(random.random())\n",
    "print('w =',w,'\\nb = ',b)\n",
    "\n",
    "# set epochs\n",
    "epochs = 5001\n",
    "\n",
    "# definition hypotehsis\n",
    "def hypotehsis(x_train):\n",
    "     return x_train * w +b\n",
    "\n",
    "# definition cost_function\n",
    "def cost_function():\n",
    "    y_pred = hypotehsis(x_train)\n",
    "    cost = tf.reduce_mean((y_train-y_pred)**2)\n",
    "    return cost\n",
    "\n",
    "# set optimizer is Adam (learning rate = 0.07)\n",
    "optimizer = tf.optimizers.Adam(lr = 0.07)\n",
    "\n",
    "# training model with trainig data \n",
    "for i in range (epochs):\n",
    "    y_pred = hypotehsis(x_train)\n",
    "    optimizer.minimize(cost_function, var_list = [w,b])\n",
    "    \n",
    "    if i%100 == 99:\n",
    "        print('epochs =',i,'w =',w.numpy(),'b =',b.numpy(),'cost =',cost_function().numpy())"
   ]
  },
  {
   "cell_type": "code",
   "execution_count": 50,
   "metadata": {},
   "outputs": [
    {
     "data": {
      "image/png": "[encoded data removed]",
      "text/plain": [
       "<Figure size 432x288 with 1 Axes>"
      ]
     },
     "metadata": {
      "needs_background": "light"
     },
     "output_type": "display_data"
    }
   ],
   "source": [
    "line_x = np.arange(min(x_train),max(x_train),0.01)\n",
    "line_y = w*line_x + b \n",
    "\n",
    "plt.plot(line_x,line_y,'r-')\n",
    "plt.scatter(x_train,y_train)\n",
    "plt.xlabel('< Study time >')\n",
    "plt.ylabel('< Score >')\n",
    "plt.show()"
   ]
  },
  {
   "cell_type": "code",
   "execution_count": 160,
   "metadata": {
    "scrolled": true
   },
   "outputs": [
    {
     "name": "stdout",
     "output_type": "stream",
     "text": [
      "W=0.298253, b=0.269342\n",
      "epoch=0, w=13.9094, b=2.9315, cost=7903.01455\n",
      "epoch=100, w=10.1088, b=32.4004, cost=373.82087\n",
      "epoch=200, w=7.0954, b=50.3833, cost=146.14358\n",
      "epoch=300, w=5.2448, b=61.4266, cost=60.28295\n",
      "epoch=400, w=4.1084, b=68.2082, cost=27.90358\n",
      "epoch=500, w=3.4105, b=72.3728, cost=15.69281\n",
      "epoch=600, w=2.9820, b=74.9302, cost=11.08794\n",
      "epoch=700, w=2.7188, b=76.5008, cost=9.35138\n",
      "epoch=800, w=2.5572, b=77.4652, cost=8.69649\n",
      "epoch=900, w=2.4579, b=78.0575, cost=8.44952\n",
      "epoch=1000, w=2.3970, b=78.4212, cost=8.35639\n",
      "epoch=1100, w=2.3596, b=78.6446, cost=8.32126\n",
      "epoch=1200, w=2.3366, b=78.7817, cost=8.30802\n",
      "epoch=1300, w=2.3225, b=78.8660, cost=8.30302\n",
      "epoch=1400, w=2.3138, b=78.9177, cost=8.30114\n",
      "epoch=1500, w=2.3085, b=78.9495, cost=8.30043\n",
      "epoch=1600, w=2.3052, b=78.9690, cost=8.30016\n",
      "epoch=1700, w=2.3032, b=78.9809, cost=8.30006\n",
      "epoch=1800, w=2.3020, b=78.9883, cost=8.30002\n",
      "epoch=1900, w=2.3012, b=78.9928, cost=8.30001\n",
      "epoch=2000, w=2.3007, b=78.9956, cost=8.30000\n"
     ]
    },
    {
     "data": {
      "image/png": "[encoded data removed]",
      "text/plain": [
       "<Figure size 432x288 with 1 Axes>"
      ]
     },
     "metadata": {
      "needs_background": "light"
     },
     "output_type": "display_data"
    }
   ],
   "source": [
    "import numpy as np\n",
    "import pandas as pd\n",
    "import matplotlib.pyplot as plt\n",
    "\n",
    "# training data\n",
    "data = [[2, 81], [4, 93], [6, 91], [8, 97]]\n",
    "\n",
    "#Classify training data\n",
    "x = [i[0] for i in data]\n",
    "y = [i[1] for i in data]\n",
    "\n",
    "# It converts the x and y values in the list into a NumPy array (this is to enable calculation by loading one by one by giving an index).\n",
    "x_data = np.array(x)\n",
    "y_data = np.array(y)\n",
    "\n",
    "# Initialize w and b to random values.\n",
    "w = np.random.rand()\n",
    "b = np.random.rand()\n",
    "print('W={0:.6f}, b={1:.6f}'.format(w,b))\n",
    "\n",
    "# set learning rate\n",
    "lr = 0.015\n",
    "\n",
    "# set epochs \n",
    "epochs = 2001\n",
    "\n",
    "# define hypotehsis\n",
    "def hypotehsis(x):\n",
    "    return w*x + b\n",
    "    \n",
    "# define Optimizer function     \n",
    "def optimizer():\n",
    "     global w,b\n",
    "     error = y_data - y_hat  #오차를 구하는 식입니다.\n",
    "     w_diff = -(2/len(x_data)) * sum(x_data * (error)) # 오차함수를 a로 미분한 값입니다. \n",
    "     b_diff = -(2/len(x_data)) * sum(error)  # 오차함수를 b로 미분한 값입니다. \n",
    "     w = w - lr * w_diff  # 학습률을 곱해 기존의 a값을 업데이트합니다.\n",
    "     b = b - lr * b_diff  # 학습률을 곱해 기존의 b값을 업데이트합니다.\n",
    "    \n",
    "# define Cost function     \n",
    "def cost(y_pred):\n",
    "    cost = 1/len(x_data)*sum((y_data - y_pred)**2)\n",
    "    return cost\n",
    "    \n",
    "# Start learning \n",
    "for i in range(epochs): # epoch 수 만큼 반복\n",
    "    y_hat = hypotehsis(x_data)  #y를 구하는 식을 세웁니다\n",
    "    optimizer()\n",
    "    if i % 100 == 0:    # 100번 반복될 때마다 현재의 a값, b값을 출력합니다.       \n",
    "        print(\"epoch=%.f, w=%.04f, b=%.04f, cost=%0.5f\" % (i, w, b,cost(y_hat)))\n",
    "        \n",
    "# Plot graph\n",
    "y_line = w * x_data + b\n",
    "plt.scatter(x, y)\n",
    "plt.xlabel('< Study time >')\n",
    "plt.ylabel('< Score >')\n",
    "plt.plot([min(x_data), max(x_data)], [min(y_line), max(y_line)],'-r')\n",
    "plt.show()"
   ]
  },
  {
   "cell_type": "code",
   "execution_count": null,
   "metadata": {},
   "outputs": [],
   "source": []
  }
 ],
 "metadata": {
  "kernelspec": {
   "display_name": "Python 3",
   "language": "python",
   "name": "python3"
  },
  "language_info": {
   "codemirror_mode": {
    "name": "ipython",
    "version": 3
   },
   "file_extension": ".py",
   "mimetype": "text/x-python",
   "name": "python",
   "nbconvert_exporter": "python",
   "pygments_lexer": "ipython3",
   "version": "3.7.4"
  }
 },
 "nbformat": 4,
 "nbformat_minor": 2
}
