{
 "cells": [
  {
   "cell_type": "markdown",
   "metadata": {},
   "source": [
    "# Linear regression \n",
    "## 1. 최소 제곱법 (method of least squares)"
   ]
  },
  {
   "cell_type": "code",
   "execution_count": 37,
   "metadata": {},
   "outputs": [
    {
     "name": "stdout",
     "output_type": "stream",
     "text": [
      "기울기 W =  2.3\n",
      "y절편 b =  79.0\n"
     ]
    }
   ],
   "source": [
    "import numpy as np\n",
    "import matplotlib.pyplot as plt\n",
    "%matplotlib inline\n",
    "\n",
    "# training set\n",
    "x_data=[2,4,6,8]\n",
    "y_data=[81,93,91,97]\n",
    "\n",
    "# x와 y의 평균 값\n",
    "x_mean = np.mean(x_data)\n",
    "y_mean = np.mean(y_data)\n",
    "\n",
    "# 기울기 공식의 분모 \n",
    "divisor = sum([(x-x_mean)**2 for x in x_data]) \n",
    "\n",
    "# 기울기 공식의 분자 \n",
    "def top(x,xm,y,ym):\n",
    "    d=0\n",
    "    for i in range(len(x)):\n",
    "        d+=(x[i]-x_mean)*(y[i]-y_mean)\n",
    "    return d\n",
    "\n",
    "dividend = top(x_data,x_mean,y_data,y_mean)\n",
    "\n",
    "W = dividend / divisor \n",
    "b = y_mean - (x_mean * W)\n",
    "\n",
    "print(\"기울기 W = \", W)\n",
    "print(\"y절편 b = \",b)"
   ]
  },
  {
   "cell_type": "markdown",
   "metadata": {},
   "source": [
    "## 2. 평균제곱오차 MSE (mean square error)"
   ]
  },
  {
   "cell_type": "code",
   "execution_count": 20,
   "metadata": {},
   "outputs": [
    {
     "name": "stdout",
     "output_type": "stream",
     "text": [
      "공부한 시간=2, 실제 점수=81, 예측 점수=84\n",
      "공부한 시간=4, 실제 점수=93, 예측 점수=88\n",
      "공부한 시간=6, 실제 점수=91, 예측 점수=93\n",
      "공부한 시간=8, 실제 점수=97, 예측 점수=97\n",
      "MSE 최종값 =  8.299999999999985\n"
     ]
    }
   ],
   "source": [
    "import numpy as np \n",
    "\n",
    "fake_W_b = [2.3,79]\n",
    "data=[[2,81],[4,93],[6,91],[8,97]]\n",
    "\n",
    "x=[i[0] for i in data]\n",
    "y=[i[1] for i in data]\n",
    "\n",
    "def predict(x):\n",
    "    return fake_W_b[0]*x + fake_W_b[1]\n",
    "\n",
    "def mse(y_hat,y):\n",
    "    return ((y_hat-y)** 2).mean()\n",
    "    \n",
    "def mse_val (predict_result, y):\n",
    "    return mse(np.array(predict_result),np.array(y))\n",
    "\n",
    "predict_result=[]\n",
    "\n",
    "for i in range(len(x)):\n",
    "    predict_result.append(predict(x[i]))\n",
    "    print(\"공부한 시간=%.f, 실제 점수=%.f, 예측 점수=%.f\" % (x[i],y[i],predict(x[i])))\n",
    "    \n",
    "print(\"MSE 최종값 = \",mse_val(predict_result,y))"
   ]
  },
  {
   "cell_type": "markdown",
   "metadata": {},
   "source": [
    "## 경사하강법 (Gradient Descent)"
   ]
  },
  {
   "cell_type": "code",
   "execution_count": 8,
   "metadata": {
    "scrolled": true
   },
   "outputs": [
    {
     "name": "stdout",
     "output_type": "stream",
     "text": [
      "W=0.885758, b=0.982362\n",
      "epoch=0, w=26.8367, b=6.0877, cost=7258.41247\n",
      "epoch=100, w=7.0232, b=50.8139, cost=143.34399\n",
      "epoch=200, w=4.0769, b=68.3959, cost=27.41388\n",
      "epoch=300, w=2.9685, b=75.0106, cost=11.00534\n",
      "epoch=400, w=2.5515, b=77.4991, cost=8.68291\n",
      "epoch=500, w=2.3946, b=78.4353, cost=8.35420\n",
      "epoch=600, w=2.3356, b=78.7876, cost=8.30767\n",
      "epoch=700, w=2.3134, b=78.9201, cost=8.30109\n",
      "epoch=800, w=2.3050, b=78.9699, cost=8.30015\n",
      "epoch=900, w=2.3019, b=78.9887, cost=8.30002\n",
      "epoch=1000, w=2.3007, b=78.9957, cost=8.30000\n",
      "epoch=1100, w=2.3003, b=78.9984, cost=8.30000\n",
      "epoch=1200, w=2.3001, b=78.9994, cost=8.30000\n",
      "epoch=1300, w=2.3000, b=78.9998, cost=8.30000\n",
      "epoch=1400, w=2.3000, b=78.9999, cost=8.30000\n",
      "epoch=1500, w=2.3000, b=79.0000, cost=8.30000\n",
      "epoch=1600, w=2.3000, b=79.0000, cost=8.30000\n",
      "epoch=1700, w=2.3000, b=79.0000, cost=8.30000\n",
      "epoch=1800, w=2.3000, b=79.0000, cost=8.30000\n",
      "epoch=1900, w=2.3000, b=79.0000, cost=8.30000\n",
      "epoch=2000, w=2.3000, b=79.0000, cost=8.30000\n"
     ]
    },
    {
     "data": {
      "image/png": "[encoded data removed]",
      "text/plain": [
       "<Figure size 432x288 with 1 Axes>"
      ]
     },
     "metadata": {
      "needs_background": "light"
     },
     "output_type": "display_data"
    }
   ],
   "source": [
    "import numpy as np\n",
    "import pandas as pd\n",
    "import matplotlib.pyplot as plt\n",
    "\n",
    "#공부시간 X와 성적 Y의 리스트 생성\n",
    "data = [[2, 81], [4, 93], [6, 91], [8, 97]]\n",
    "x = [i[0] for i in data]\n",
    "y = [i[1] for i in data]\n",
    "\n",
    "#인덱스를 주어 하나씩 불러와 계산이 가능해 지도록 하기 위해 넘파이 배열로 변경\n",
    "x_data = np.array(x)\n",
    "y_data = np.array(y)\n",
    "\n",
    "# 기울기 w와 절편 b의 값을 random값으로 초기화 \n",
    "w = np.random.rand()\n",
    "b = np.random.rand()\n",
    "print('W={0:.6f}, b={1:.6f}'.format(w,b))\n",
    "\n",
    "# definition hypotehsis\n",
    "def hypotehsis(x_train):\n",
    "     return x_train * w +b\n",
    "    \n",
    "#학습률을 정합니다.\n",
    "lr = 0.03\n",
    "\n",
    "#몇 번 반복될지를 설정합니다.\n",
    "epochs = 2001\n",
    "\n",
    "# define Cost function     \n",
    "def cost(y_pred):\n",
    "    cost = 1/len(x_data)*sum((y_data - y_pred)**2)\n",
    "    return cost\n",
    "\n",
    "# define Optimizer   \n",
    "def optimizer():\n",
    "     global w,b\n",
    "     error = y_data - y_hat  #오차를 구하는 식입니다.\n",
    "     w_diff = -(2/len(x_data)) * sum(x_data * (error)) # 오차함수를 w로 미분한 값 \n",
    "     b_diff = -(2/len(x_data)) * sum(error)  # 오차함수를 b로 미분한 값 \n",
    "     w = w - lr * w_diff  # 학습률을 곱해 기존의 w값을 업데이트\n",
    "     b = b - lr * b_diff  # 학습률을 곱해 기존의 b값을 업데이트\n",
    "        \n",
    "# Start learning \n",
    "for i in range(epochs): # epoch 수 만큼 반복\n",
    "    y_hat = hypotehsis(x_data)  #y를 구하는 식을 세웁니다\n",
    "    optimizer()\n",
    "    if i % 100 == 0:    # 100번 반복될 때마다 현재의 w값, b값을 출력합니다.       \n",
    "        print(\"epoch=%.f, w=%.04f, b=%.04f, cost=%0.5f\" % (i, w, b,cost(y_hat)))\n",
    "\n",
    "y_pred = hypotehsis(x_data)\n",
    "plt.scatter(x, y)\n",
    "plt.plot([min(x_data), max(x_data)], [min(y_pred), max(y_pred)])\n",
    "plt.show()"
   ]
  },
  {
   "cell_type": "markdown",
   "metadata": {},
   "source": [
    "## 다중선형 회귀 (Multiple Linear Regression)"
   ]
  },
  {
   "cell_type": "code",
   "execution_count": 74,
   "metadata": {},
   "outputs": [
    {
     "name": "stdout",
     "output_type": "stream",
     "text": [
      "W1=0.500223, W2=0.845845 b=0.325723\n",
      "epoch=0, 기울기1=22.3187, 기울기2=10.7399, 절편=4.6142\n",
      "epoch=100, 기울기1=6.4212, 기울기2=3.9851, 절편=44.0676\n",
      "epoch=200, 기울기1=3.7195, 기울기2=3.0521, 절편=62.6181\n",
      "epoch=300, 기울기1=2.5010, 기울기2=2.6313, 절편=70.9843\n",
      "epoch=400, 기울기1=1.9514, 기울기2=2.4416, 절편=74.7575\n",
      "epoch=500, 기울기1=1.7036, 기울기2=2.3560, 절편=76.4592\n",
      "epoch=600, 기울기1=1.5918, 기울기2=2.3174, 절편=77.2267\n",
      "epoch=700, 기울기1=1.5414, 기울기2=2.3000, 절편=77.5728\n",
      "epoch=800, 기울기1=1.5187, 기울기2=2.2922, 절편=77.7289\n",
      "epoch=900, 기울기1=1.5084, 기울기2=2.2886, 절편=77.7993\n",
      "epoch=1000, 기울기1=1.5038, 기울기2=2.2870, 절편=77.8311\n",
      "epoch=1100, 기울기1=1.5017, 기울기2=2.2863, 절편=77.8454\n",
      "epoch=1200, 기울기1=1.5008, 기울기2=2.2860, 절편=77.8518\n",
      "epoch=1300, 기울기1=1.5003, 기울기2=2.2858, 절편=77.8548\n",
      "epoch=1400, 기울기1=1.5002, 기울기2=2.2858, 절편=77.8561\n",
      "epoch=1500, 기울기1=1.5001, 기울기2=2.2857, 절편=77.8567\n",
      "epoch=1600, 기울기1=1.5000, 기울기2=2.2857, 절편=77.8569\n",
      "epoch=1700, 기울기1=1.5000, 기울기2=2.2857, 절편=77.8570\n",
      "epoch=1800, 기울기1=1.5000, 기울기2=2.2857, 절편=77.8571\n",
      "epoch=1900, 기울기1=1.5000, 기울기2=2.2857, 절편=77.8571\n",
      "epoch=2000, 기울기1=1.5000, 기울기2=2.2857, 절편=77.8571\n"
     ]
    }
   ],
   "source": [
    "import numpy as np\n",
    "import pandas as pd\n",
    "import matplotlib.pyplot as plt\n",
    "from mpl_toolkits import mplot3d\n",
    "\n",
    "#공부시간 X와 성적 Y의 리스트 생성\n",
    "data = [[2, 0, 81], [4, 4, 93], [6, 2, 91], [8, 3, 97]]\n",
    "x1 = [i[0] for i in data]\n",
    "x2 = [i[1] for i in data]\n",
    "y = [i[2] for i in data]\n",
    "\n",
    "x1_data = np.array(x1)\n",
    "x2_data = np.array(x2)\n",
    "y_data = np.array(y)\n",
    "\n",
    "# 기울기 w1과w2 절편 b의 값을 random 값으로 초기화 합니다.\n",
    "w1 = np.random.rand()\n",
    "w2 = np.random.rand()\n",
    "b =  np.random.rand()\n",
    "print('W1={0:.6f}, W2={1:.6f} b={2:.6f}'.format(w1,w2,b))\n",
    "\n",
    "#학습률을 정합니다.\n",
    "alpha = 0.05 \n",
    "\n",
    "#몇 번 반복될지를 설정합니다\n",
    "epochs = 2001 \n",
    "\n",
    "#경사 하강법을 시작합니다.\n",
    "for i in range(epochs): # epoch 수 만큼 반복\n",
    "    y_pred = w1 * x1_data + w2 * x2_data + b  #y를 구하는 식\n",
    "    error = y_data - y_pred  #오차를 구하는 식\n",
    "    w1_diff = -(1/len(x1_data)) * sum(x1_data * (error)) # 오차함수를 w1로 미분한 값 \n",
    "    w2_diff = -(1/len(x2_data)) * sum(x2_data * (error)) # 오차함수를 w2로 미분한 값 \n",
    "    b_new = -(1/len(x1_data)) * sum(y_data - y_pred)  # 오차함수를 b로 미분한 값\n",
    "    w1 = w1 - alpha * w1_diff  # 학습률을 곱해 기존의 w1값을 업데이트\n",
    "    w2 = w2 - alpha * w2_diff  # 학습률을 곱해 기존의 w2값을 업데이트\n",
    "    b = b - alpha * b_new  # 학습률을 곱해 기존의 b값을 업데이트\n",
    "    if i % 100 == 0:    # 100번 반복될 때마다 현재의 w1, w2, b값을 출력\n",
    "        print(\"epoch=%.f, 기울기1=%.04f, 기울기2=%.04f, 절편=%.04f\" % (i, w1, w2, b))"
   ]
  },
  {
   "cell_type": "markdown",
   "metadata": {},
   "source": [
    "# Linear Regression"
   ]
  },
  {
   "cell_type": "code",
   "execution_count": 5,
   "metadata": {},
   "outputs": [
    {
     "name": "stdout",
     "output_type": "stream",
     "text": [
      "w = <tf.Variable 'Variable:0' shape=() dtype=float32, numpy=0.7828737> \n",
      "b =  <tf.Variable 'Variable:0' shape=() dtype=float32, numpy=0.943199>\n",
      "epochs = 99 w = 6.192427 b = 6.7381477 cost = 681.5821\n",
      "epochs = 199 w = 7.523885 b = 9.817869 cost = 416.06982\n",
      "epochs = 299 w = 7.3996677 b = 12.265194 cost = 365.1718\n",
      "epochs = 399 w = 7.1341753 b = 14.872248 cost = 314.33197\n",
      "epochs = 499 w = 6.8554387 b = 17.598297 cost = 265.6419\n",
      "epochs = 599 w = 6.5741897 b = 20.354399 cost = 221.08125\n",
      "epochs = 699 w = 6.297263 b = 23.07228 cost = 181.73012\n",
      "epochs = 799 w = 6.0298753 b = 25.699663 cost = 148.0217\n",
      "epochs = 899 w = 5.7759886 b = 28.196737 cost = 119.93134\n",
      "epochs = 999 w = 5.5385365 b = 30.533918 cost = 97.123184\n"
     ]
    },
    {
     "data": {
      "image/png": "[encoded data removed]",
      "text/plain": [
       "<Figure size 432x288 with 1 Axes>"
      ]
     },
     "metadata": {
      "needs_background": "light"
     },
     "output_type": "display_data"
    }
   ],
   "source": [
    "import tensorflow as tf\n",
    "import numpy as np\n",
    "import matplotlib.pyplot as plt\n",
    "import random\n",
    "\n",
    "# train data set\n",
    "data =[[1,40],[2,50],[3,60],[4,65],[6,75],[9,88],[12,94],[11,93],[15,97]]\n",
    "\n",
    "# Classify training data\n",
    "x_train = [i[0] for i in data]\n",
    "y_train = [i[1] for i in data]\n",
    "\n",
    "# set parameters\n",
    "w = tf.Variable(random.random())\n",
    "b = tf.Variable(random.random())\n",
    "print('w =',w,'\\nb = ',b)\n",
    "\n",
    "# set epochs\n",
    "epochs = 1001\n",
    "\n",
    "# definition hypotehsis\n",
    "def hypotehsis(x_train):\n",
    "     return x_train * w +b\n",
    "\n",
    "# definition cost_function\n",
    "def cost_function():\n",
    "    y_pred = hypotehsis(x_train)\n",
    "    cost = tf.reduce_mean((y_train-y_pred)**2)\n",
    "    return cost\n",
    "\n",
    "# set optimizer is Adam (learning rate = 0.07)\n",
    "optimizer = tf.optimizers.Adam(lr = 0.07)\n",
    "\n",
    "# training model with trainig data \n",
    "for i in range (epochs):\n",
    "    y_pred = hypotehsis(x_train)\n",
    "    optimizer.minimize(cost_function, var_list = [w,b])\n",
    "    \n",
    "    if i%100 == 99:\n",
    "        print('epochs =',i,'w =',w.numpy(),'b =',b.numpy(),'cost =',cost_function().numpy())\n",
    "        \n",
    "line_x = np.arange(min(x_train),max(x_train),0.01)\n",
    "line_y = w*line_x + b \n",
    "\n",
    "plt.plot(line_x,line_y,'r-')\n",
    "plt.scatter(x_train,y_train)\n",
    "plt.xlabel('< Study time >')\n",
    "plt.ylabel('< Score >')\n",
    "plt.show()"
   ]
  }
 ],
 "metadata": {
  "kernelspec": {
   "display_name": "Python 3",
   "language": "python",
   "name": "python3"
  },
  "language_info": {
   "codemirror_mode": {
    "name": "ipython",
    "version": 3
   },
   "file_extension": ".py",
   "mimetype": "text/x-python",
   "name": "python",
   "nbconvert_exporter": "python",
   "pygments_lexer": "ipython3",
   "version": "3.7.4"
  }
 },
 "nbformat": 4,
 "nbformat_minor": 2
}
